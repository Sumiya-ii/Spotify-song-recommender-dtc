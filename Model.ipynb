{
 "cells": [
  {
   "cell_type": "code",
   "execution_count": 854,
   "id": "aae6fcc4",
   "metadata": {},
   "outputs": [],
   "source": [
    "# Libraries\n",
    "import pandas as pd\n",
    "import numpy as np\n",
    "import seaborn as sns\n",
    "import matplotlib.pyplot as plt\n",
    "import matplotlib.ticker as plticker\n",
    "from imblearn.over_sampling import SMOTE \n",
    "%matplotlib inline\n",
    "import sklearn\n",
    "from sklearn.pipeline import Pipeline\n",
    "from sklearn.model_selection import cross_val_score\n",
    "from sklearn.model_selection import train_test_split\n",
    "from sklearn.model_selection import GridSearchCV\n",
    "from sklearn.metrics import plot_confusion_matrix\n",
    "from sklearn import metrics \n",
    "from sklearn.metrics import f1_score\n",
    "from sklearn.ensemble import RandomForestClassifier\n",
    "from sklearn.linear_model import LogisticRegression \n",
    "from sklearn.tree import DecisionTreeClassifier"
   ]
  },
  {
   "cell_type": "code",
   "execution_count": 855,
   "id": "d4505d64",
   "metadata": {},
   "outputs": [],
   "source": [
    "# Setting up Spotify API\n",
    "import spotipy\n",
    "import spotipy.util as util\n",
    "from spotipy import oauth2\n",
    "from spotipy.oauth2 import SpotifyClientCredentials\n",
    "from spotipy.oauth2 import SpotifyOAuth\n",
    "import os\n",
    "\n",
    "# Putting spotify credentials\n",
    "os.environ['SPOTIPY_CLIENT_ID'] ='3a296280058f458d881e4caf58ff630f'\n",
    "os.environ['SPOTIPY_CLIENT_SECRET'] ='2a815b9a6d974667be04307685c3215f'\n",
    "os.environ['SPOTIPY_REDIRECT_URI'] ='http://localhost:7777/callback'\n",
    "\n",
    "username = 'pvinqu86bwvr33t8tydnxdmh9'\n",
    "\n",
    "\n",
    "scope = \"user-read-private, streaming, playlist-read-collaborative, user-library-read,user-read-email, playlist-read-private, user-read-playback-position, user-library-modify, user-follow-read, user-read-currently-playing, user-follow-modify, playlist-modify-private, user-modify-playback-state, playlist-modify-public, app-remote-control, user-top-read, user-read-playback-state, user-read-recently-played,\"\n",
    "sp = spotipy.Spotify(auth_manager=SpotifyOAuth(scope=scope))"
   ]
  },
  {
   "cell_type": "code",
   "execution_count": 856,
   "id": "0187e1bb",
   "metadata": {},
   "outputs": [],
   "source": [
    "df_top = pd.read_csv(\"my_spotify_data_with_top_tracks.csv\")\n",
    "df_liked = pd.read_csv(\"my_spotify_data_with_liked_tracks.csv\")"
   ]
  },
  {
   "cell_type": "code",
   "execution_count": 857,
   "id": "d0aec91b",
   "metadata": {},
   "outputs": [
    {
     "data": {
      "text/plain": [
       "0    1338\n",
       "1      50\n",
       "Name: favorite, dtype: int64"
      ]
     },
     "execution_count": 857,
     "metadata": {},
     "output_type": "execute_result"
    }
   ],
   "source": [
    "df_top.favorite.value_counts()"
   ]
  },
  {
   "cell_type": "code",
   "execution_count": 858,
   "id": "0ac6717a",
   "metadata": {},
   "outputs": [
    {
     "data": {
      "text/plain": [
       "0    1341\n",
       "1      50\n",
       "Name: favorite, dtype: int64"
      ]
     },
     "execution_count": 858,
     "metadata": {},
     "output_type": "execute_result"
    }
   ],
   "source": [
    "df_liked.favorite.value_counts()"
   ]
  },
  {
   "cell_type": "markdown",
   "id": "63da109e",
   "metadata": {},
   "source": [
    "## Decision Tree Classifier model using TOP tracks"
   ]
  },
  {
   "cell_type": "markdown",
   "id": "a4d67697",
   "metadata": {},
   "source": [
    "##### Since the dataset is imbalanced, I decided to use random oversampling."
   ]
  },
  {
   "cell_type": "code",
   "execution_count": 859,
   "id": "98b21798",
   "metadata": {},
   "outputs": [],
   "source": [
    "# Shuffle your dataset \n",
    "shuffle_df1 = df_top.sample(frac=1)\n",
    "\n",
    "# Define a size for your train set \n",
    "train_size1 = int(0.8 * len(df_top))\n",
    "\n",
    "# Split dataset \n",
    "train_set1 = shuffle_df1[:train_size1]\n",
    "test_set1 = shuffle_df1[train_size1:]"
   ]
  },
  {
   "cell_type": "code",
   "execution_count": 860,
   "id": "cabb3f28",
   "metadata": {},
   "outputs": [
    {
     "data": {
      "text/plain": [
       "0    1072\n",
       "1      38\n",
       "Name: favorite, dtype: int64"
      ]
     },
     "execution_count": 860,
     "metadata": {},
     "output_type": "execute_result"
    }
   ],
   "source": [
    "# Training data sets\n",
    "X1 = train_set1.drop(columns=['favorite', 'track_id'])\n",
    "y1 = train_set1.favorite\n",
    "# Test datasets\n",
    "X1_test = test_set1.drop(columns=['favorite', 'track_id'])\n",
    "y1_test = test_set1['favorite']\n",
    "\n",
    "y1.value_counts()"
   ]
  },
  {
   "cell_type": "code",
   "execution_count": 861,
   "id": "48a7f66c",
   "metadata": {},
   "outputs": [],
   "source": [
    "# Oversampling the favorite songs to train classification model.\n",
    "oversample = SMOTE()\n",
    "X1_train, y1_train = oversample.fit_resample(X1, y1)"
   ]
  },
  {
   "cell_type": "code",
   "execution_count": 862,
   "id": "70130f3d",
   "metadata": {},
   "outputs": [
    {
     "data": {
      "text/plain": [
       "0    1072\n",
       "1    1072\n",
       "Name: favorite, dtype: int64"
      ]
     },
     "execution_count": 862,
     "metadata": {},
     "output_type": "execute_result"
    }
   ],
   "source": [
    "# y_train = y\n",
    "y1_train.value_counts()"
   ]
  },
  {
   "cell_type": "code",
   "execution_count": 863,
   "id": "e0fe7771",
   "metadata": {},
   "outputs": [
    {
     "data": {
      "text/plain": [
       "0    266\n",
       "1     12\n",
       "Name: favorite, dtype: int64"
      ]
     },
     "execution_count": 863,
     "metadata": {},
     "output_type": "execute_result"
    }
   ],
   "source": [
    "y1_test.value_counts()"
   ]
  },
  {
   "cell_type": "code",
   "execution_count": 864,
   "id": "fe6c45ad",
   "metadata": {},
   "outputs": [
    {
     "data": {
      "text/plain": [
       "{'max_depth': 25}"
      ]
     },
     "execution_count": 864,
     "metadata": {},
     "output_type": "execute_result"
    }
   ],
   "source": [
    "# Hyperparameter optimization for Decision Tree Classifier\n",
    "parameters = {\n",
    "    'max_depth':[3, 4, 5, 6, 10, 15, 20, 25, 30, 40],\n",
    "}\n",
    "dtc = Pipeline([('CV',GridSearchCV(DecisionTreeClassifier(), parameters, cv = 5))])\n",
    "dtc.fit(X1_train, y1_train)\n",
    "dtc.named_steps['CV'].best_params_"
   ]
  },
  {
   "cell_type": "code",
   "execution_count": 865,
   "id": "b40b6696",
   "metadata": {},
   "outputs": [
    {
     "data": {
      "text/plain": [
       "0.9350257587382135"
      ]
     },
     "execution_count": 865,
     "metadata": {},
     "output_type": "execute_result"
    }
   ],
   "source": [
    "# Decision Tree Classifier\n",
    "dt1 = DecisionTreeClassifier(max_depth=30).fit(X1_train, y1_train)\n",
    "dt1_scores = cross_val_score(dt1, X1_train, y1_train, cv=10, scoring=\"f1\")\n",
    "np.mean(dt1_scores)"
   ]
  },
  {
   "cell_type": "code",
   "execution_count": 866,
   "id": "6c959add",
   "metadata": {},
   "outputs": [
    {
     "data": {
      "text/plain": [
       "0.9028776978417267"
      ]
     },
     "execution_count": 866,
     "metadata": {},
     "output_type": "execute_result"
    }
   ],
   "source": [
    "# Building a pipeline to use on regular data\n",
    "from sklearn.pipeline import make_pipeline\n",
    "from sklearn.preprocessing import StandardScaler\n",
    "\n",
    "pipe1 = make_pipeline(StandardScaler(), DecisionTreeClassifier(max_depth=40))\n",
    "pipe1.fit(X1_train, y1_train)  # apply scaling on training data\n",
    "Pipeline(steps=[('standardscaler', StandardScaler()),\n",
    "                ('dt', DecisionTreeClassifier(max_depth=30))])\n",
    "\n",
    "pipe1.score(X1_test, y1_test)"
   ]
  },
  {
   "cell_type": "code",
   "execution_count": 851,
   "id": "e23000d6",
   "metadata": {},
   "outputs": [],
   "source": [
    "#plot_confusion_matrix(dt1, X1_test, y1_test)"
   ]
  },
  {
   "cell_type": "code",
   "execution_count": 867,
   "id": "57023534",
   "metadata": {},
   "outputs": [],
   "source": [
    "# Function to create new playlist\n",
    "def create_playlist(sp, username, playlist_name, playlist_description):\n",
    "    playlists = sp.user_playlist_create(username, playlist_name, description = playlist_description)\n",
    "# Creating a new playlist   \n",
    "create_playlist(sp, username, 'New Jams by Sumiya', 'This playlist was created using Decision Tree Classifier')"
   ]
  },
  {
   "cell_type": "code",
   "execution_count": 868,
   "id": "3dc3ac9f",
   "metadata": {},
   "outputs": [],
   "source": [
    "# Predicting if a song is a favorite\n",
    "prob_preds1 = pipe1.predict_proba(df_top.drop(['favorite','track_id'], axis=1))\n",
    "prediction1 = [1 if prob_preds1[i][1] == 1.0 else 0 for i in range(len(prob_preds1))]\n",
    "df_top['prediction'] = prediction1\n",
    "\n",
    "# Function to find the playlist ID of the most recently made playlist so we can add songs to it later\n",
    "def find_recent_playlist_id(sp, username):\n",
    "    #Getting all the playlists data\n",
    "    playlists = sp.user_playlists(username)\n",
    "    #Getting ID of latest playlist\n",
    "    return playlists['items'][0]['id']\n",
    "\n",
    "# Function to add selected songs to playlist\n",
    "def add_tracks_playlist(sp, username, playlist_id, playlist_tracks):\n",
    "    results = []\n",
    "    results += sp.user_playlist_add_tracks(username, playlist_id, tracks = playlist_tracks[0:len(playlist_tracks)])\n",
    "\n",
    "# Get the most recently made playlist ID\n",
    "latest_playlist_id = find_recent_playlist_id(sp, username)\n",
    "        \n",
    "# Selecting IDs of predicted songs\n",
    "recommended_tracks1 = df_top.loc[df_top['prediction']  == 1]['track_id']\n",
    "\n",
    "# Check whether recommendation is already in user's top tracks\n",
    "recommended_tracks1 = recommended_tracks1[recommended_tracks1.isin((df_top[df_top['favorite'] == 1].track_id)) == False]\n",
    "\n",
    "#Add predicted tracks to the playlist\n",
    "add_tracks_playlist(sp, username, latest_playlist_id, recommended_tracks)"
   ]
  },
  {
   "cell_type": "markdown",
   "id": "518ed136",
   "metadata": {},
   "source": [
    "## Decision Tree Classifier model using LIKED tracks"
   ]
  },
  {
   "cell_type": "code",
   "execution_count": 790,
   "id": "96675abe",
   "metadata": {},
   "outputs": [],
   "source": [
    "# Shuffle your dataset \n",
    "shuffle_df2 = df_liked.sample(frac=1)\n",
    "\n",
    "# Define a size for your train set \n",
    "train_size2 = int(0.8 * len(df_liked))\n",
    "\n",
    "# Split dataset \n",
    "train_set2 = shuffle_df2[:train_size1]\n",
    "test_set2 = shuffle_df2[train_size1:]"
   ]
  },
  {
   "cell_type": "code",
   "execution_count": 791,
   "id": "fb96d39d",
   "metadata": {},
   "outputs": [
    {
     "data": {
      "text/plain": [
       "0    1072\n",
       "1      38\n",
       "Name: favorite, dtype: int64"
      ]
     },
     "execution_count": 791,
     "metadata": {},
     "output_type": "execute_result"
    }
   ],
   "source": [
    "# Training data sets\n",
    "X2 = train_set2.drop(columns=['favorite', 'track_id'])\n",
    "y2 = train_set2.favorite\n",
    "# Test datasets\n",
    "X2_test = test_set2.drop(columns=['favorite', 'track_id'])\n",
    "y2_test = test_set2['favorite']\n",
    "\n",
    "y2.value_counts()"
   ]
  },
  {
   "cell_type": "code",
   "execution_count": 792,
   "id": "6512a3e3",
   "metadata": {},
   "outputs": [],
   "source": [
    "# Oversampling the favorite songs to train classification model.\n",
    "oversample = SMOTE()\n",
    "X2_train, y2_train = oversample.fit_resample(X2, y2)"
   ]
  },
  {
   "cell_type": "code",
   "execution_count": 793,
   "id": "85eede1f",
   "metadata": {},
   "outputs": [
    {
     "data": {
      "text/plain": [
       "0    1072\n",
       "1    1072\n",
       "Name: favorite, dtype: int64"
      ]
     },
     "execution_count": 793,
     "metadata": {},
     "output_type": "execute_result"
    }
   ],
   "source": [
    "# y_train = y\n",
    "y2_train.value_counts()"
   ]
  },
  {
   "cell_type": "code",
   "execution_count": 794,
   "id": "08b1fc27",
   "metadata": {},
   "outputs": [
    {
     "data": {
      "text/plain": [
       "0    269\n",
       "1     12\n",
       "Name: favorite, dtype: int64"
      ]
     },
     "execution_count": 794,
     "metadata": {},
     "output_type": "execute_result"
    }
   ],
   "source": [
    "y2_test.value_counts()"
   ]
  },
  {
   "cell_type": "code",
   "execution_count": 795,
   "id": "a8ae463f",
   "metadata": {},
   "outputs": [
    {
     "data": {
      "text/plain": [
       "0.9150957539896216"
      ]
     },
     "execution_count": 795,
     "metadata": {},
     "output_type": "execute_result"
    }
   ],
   "source": [
    "# Decision Tree Classifier\n",
    "dt2 = DecisionTreeClassifier(max_depth=30).fit(X2_train, y2_train)\n",
    "dt2_scores = cross_val_score(dt2, X2_train, y2_train, cv=10, scoring=\"f1\")\n",
    "np.mean(dt2_scores)"
   ]
  },
  {
   "cell_type": "code",
   "execution_count": 796,
   "id": "9e568827",
   "metadata": {},
   "outputs": [
    {
     "data": {
      "text/plain": [
       "0.8434163701067615"
      ]
     },
     "execution_count": 796,
     "metadata": {},
     "output_type": "execute_result"
    }
   ],
   "source": [
    "# Building a pipeline to use on regular data\n",
    "from sklearn.pipeline import make_pipeline\n",
    "from sklearn.preprocessing import StandardScaler\n",
    "\n",
    "pipe2 = make_pipeline(StandardScaler(), DecisionTreeClassifier(max_depth=30))\n",
    "pipe2.fit(X2_train, y2_train)  # apply scaling on training data\n",
    "Pipeline(steps=[('standardscaler', StandardScaler()),\n",
    "                ('dt', DecisionTreeClassifier(max_depth=30))])\n",
    "\n",
    "pipe2.score(X2_test, y2_test)"
   ]
  },
  {
   "cell_type": "code",
   "execution_count": 797,
   "id": "6601aa45",
   "metadata": {},
   "outputs": [
    {
     "data": {
      "text/plain": [
       "<sklearn.metrics._plot.confusion_matrix.ConfusionMatrixDisplay at 0x7fdf15b4c550>"
      ]
     },
     "execution_count": 797,
     "metadata": {},
     "output_type": "execute_result"
    },
    {
     "data": {
      "image/png": "[encoded data removed]",
      "text/plain": [
       "<Figure size 432x288 with 2 Axes>"
      ]
     },
     "metadata": {
      "needs_background": "light"
     },
     "output_type": "display_data"
    }
   ],
   "source": [
    "plot_confusion_matrix(dt2, X2_test, y2_test)"
   ]
  },
  {
   "cell_type": "code",
   "execution_count": 798,
   "id": "3f340987",
   "metadata": {},
   "outputs": [],
   "source": [
    "# Creating a new playlist   \n",
    "create_playlist(sp, username, 'New jams by Sumiya based on Liked songs', 'This playlist was created using python! Decision tree classifier model was trained on LIKED songs data')"
   ]
  },
  {
   "cell_type": "code",
   "execution_count": 799,
   "id": "54181f33",
   "metadata": {},
   "outputs": [],
   "source": [
    "# Predicting if a song is a favorite\n",
    "prob_preds2 = pipe2.predict_proba(df_liked.drop(['favorite','track_id'], axis=1))\n",
    "prediction2 = [1 if prob_preds2[i][1] == 1.0 else 0 for i in range(len(prob_preds2))]\n",
    "df_liked['prediction'] = prediction2\n",
    "\n",
    "# Get the most recently made playlist ID\n",
    "latest_playlist_id = find_recent_playlist_id(sp, username)\n",
    "        \n",
    "# Selecting IDs of predicted songs\n",
    "recommended_tracks2 = df_liked.loc[df_liked['prediction']  == 1]['track_id']\n",
    "\n",
    "# Check whether recommendation is already in user's top tracks\n",
    "recommended_tracks2 = recommended_tracks2[recommended_tracks2.isin((df_liked[df_liked['favorite'] == 1].track_id)) == False]\n",
    "\n",
    "#Add predicted tracks to the playlist\n",
    "add_tracks_playlist(sp, username, latest_playlist_id, recommended_tracks2)"
   ]
  }
 ],
 "metadata": {
  "kernelspec": {
   "display_name": "Python 3",
   "language": "python",
   "name": "python3"
  },
  "language_info": {
   "codemirror_mode": {
    "name": "ipython",
    "version": 3
   },
   "file_extension": ".py",
   "mimetype": "text/x-python",
   "name": "python",
   "nbconvert_exporter": "python",
   "pygments_lexer": "ipython3",
   "version": "3.8.5"
  }
 },
 "nbformat": 4,
 "nbformat_minor": 5
}
