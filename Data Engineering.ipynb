{
 "cells": [
  {
   "cell_type": "code",
   "execution_count": 314,
   "id": "edf394ba",
   "metadata": {},
   "outputs": [],
   "source": [
    "import pandas as pd\n",
    "import numpy as np\n",
    "import spotipy\n",
    "import spotipy.util as util\n",
    "from spotipy import oauth2\n",
    "from spotipy.oauth2 import SpotifyClientCredentials\n",
    "from spotipy.oauth2 import SpotifyOAuth\n",
    "import os"
   ]
  },
  {
   "cell_type": "markdown",
   "id": "2bb1d962",
   "metadata": {},
   "source": [
    "# Data Preperation\n",
    "\n",
    "### In this notebook, two dataset will be created: \"df_top\" and \"df_liked\"\n",
    "\n",
    "Both of these dataset will include first 100 songs of popular playlists by Spotify as \"not favorite\".\n",
    "df_top will also include user's top 50 songs \n",
    "df_liked will include user's liked songs\n"
   ]
  },
  {
   "cell_type": "code",
   "execution_count": 315,
   "id": "445f1733",
   "metadata": {},
   "outputs": [],
   "source": [
    "# Putting spotify credentials\n",
    "os.environ['SPOTIPY_CLIENT_ID'] ='3a296280058f458d881e4caf58ff630f'\n",
    "os.environ['SPOTIPY_CLIENT_SECRET'] ='2a815b9a6d974667be04307685c3215f'\n",
    "os.environ['SPOTIPY_REDIRECT_URI'] ='http://localhost:7777/callback'\n",
    "\n",
    "username = 'pvinqu86bwvr33t8tydnxdmh9'"
   ]
  },
  {
   "cell_type": "code",
   "execution_count": 316,
   "id": "824818f4",
   "metadata": {
    "scrolled": true
   },
   "outputs": [],
   "source": [
    "scope = \"user-read-private, streaming, playlist-read-collaborative, user-library-read,user-read-email, playlist-read-private, user-read-playback-position, user-library-modify, user-follow-read, user-read-currently-playing, user-follow-modify, playlist-modify-private, user-modify-playback-state, playlist-modify-public, app-remote-control, user-top-read, user-read-playback-state, user-read-recently-played,\"\n",
    "sp = spotipy.Spotify(auth_manager=SpotifyOAuth(scope=scope))"
   ]
  },
  {
   "cell_type": "markdown",
   "id": "49ef4b17",
   "metadata": {},
   "source": [
    "## Creating a dataset of playlist that contains first 100 songs of popular Spotify's playlist"
   ]
  },
  {
   "cell_type": "markdown",
   "id": "2d44bead",
   "metadata": {},
   "source": [
    "##### Note: You can use this code to get all the 1388 playlist IDs by Spotify. But this will create too large dataset when I include audio features."
   ]
  },
  {
   "cell_type": "code",
   "execution_count": 317,
   "id": "4becbf1f",
   "metadata": {},
   "outputs": [],
   "source": [
    "# # Getting playlist IDs from each of Spotify's playlists\n",
    "# playlists = sp.user_playlists('spotify')\n",
    "# spotify_playlist_ids = []\n",
    "# while playlists:\n",
    "#     for i, playlist in enumerate(playlists['items']):\n",
    "#         spotify_playlist_ids.append(playlist['uri'][-22:])\n",
    "#     if playlists['next']:\n",
    "#         playlists = sp.next(playlists)\n",
    "#     else:\n",
    "#         playlists = None"
   ]
  },
  {
   "cell_type": "markdown",
   "id": "ab60b170",
   "metadata": {},
   "source": [
    "##### Use this code to get access to certain popular playlists like\n",
    "\"Today's Top Hits\", \n",
    "\"Rap Caviar\", \n",
    "\"New Music Friday\", \n",
    "\"Are & Be\", \n",
    "\"Mint\", \n",
    "\"just hits\", \n",
    "\"soft pop hits\", \n"
   ]
  },
  {
   "cell_type": "code",
   "execution_count": 318,
   "id": "9ef9962c",
   "metadata": {},
   "outputs": [],
   "source": [
    "popular_playlist_ids = ['37i9dQZF1DXcBWIGoYBM5M', '37i9dQZF1DX0XUsuxWHRQd', \n",
    "                        '37i9dQZF1DX4JAvHpjipBk', '37i9dQZF1DX4SBhb3fqCJd', \n",
    "                        '37i9dQZF1DX4dyzvuaRJ0n', '37i9dQZF1DXcRXFNfZr7Tp', \n",
    "                        '37i9dQZF1DWTwnEm1IYyoj', '37i9dQZF1DX5hR0J49CmXC',\n",
    "                       '37i9dQZF1DXan38dNVDdl4', '37i9dQZF1DX4o1oenSJRJd', '37i9dQZF1DXbTxeAdrVG2l',\n",
    "                       '37i9dQZF1DX4UtSsGT1Sbe', '37i9dQZF1DWTJ7xPn4vNaz', '37i9dQZF1DWY4xHQp97fN6', \n",
    "                       '37i9dQZF1DWVA1Gq4XHa6U', '37i9dQZF1DX2RxBh64BHjQ', '37i9dQZF1DX2A29LI7xHn1',\n",
    "                       '37i9dQZF1DWX3387IZmjNa', '37i9dQZF1DWUVpAXiEPK8P', '37i9dQZF1DX0Tkc6ltcBfU']\n",
    "\n"
   ]
  },
  {
   "cell_type": "code",
   "execution_count": 298,
   "id": "a215d450",
   "metadata": {},
   "outputs": [],
   "source": [
    "# Function that gets the first 100 track IDs from each playlist\n",
    "def getTrackFromPlaylist(playlist_id):\n",
    "    playlist = sp.user_playlist('spotify', playlist_id)\n",
    "    for item in playlist['tracks']['items'][:100]:\n",
    "        try: \n",
    "            track = item['track']\n",
    "            ids.append(track['id'])\n",
    "        except:\n",
    "            pass\n",
    "    return ids\n",
    "\n"
   ]
  },
  {
   "cell_type": "code",
   "execution_count": 299,
   "id": "73fbfa8a",
   "metadata": {},
   "outputs": [],
   "source": [
    "# Getting track ids given playlist ids\n",
    "ids = []\n",
    "for x in popular_playlist_ids:\n",
    "    getTrackFromPlaylist(x)\n",
    "    "
   ]
  },
  {
   "cell_type": "code",
   "execution_count": 300,
   "id": "d2ac130a",
   "metadata": {},
   "outputs": [],
   "source": [
    "#Creating a function that gets audio features of each track given the track id\n",
    "def getAudioFeatures(track_id):\n",
    "    song = sp.track(track_id)\n",
    "    audio_features = sp.audio_features(track_id)\n",
    "    \n",
    "    track_id = track_id\n",
    "    popularity = song['popularity']\n",
    "    acousticness = audio_features[0]['acousticness']\n",
    "    danceability = audio_features[0]['danceability']\n",
    "    energy = audio_features[0]['energy']\n",
    "    instrumentalness = audio_features[0]['instrumentalness']\n",
    "    liveness = audio_features[0]['liveness']\n",
    "    loudness = audio_features[0]['loudness']\n",
    "    speechiness = audio_features[0]['speechiness']\n",
    "    tempo = audio_features[0]['tempo']\n",
    "    time_signature = audio_features[0]['time_signature']\n",
    "\n",
    "    track = [track_id, popularity, danceability, acousticness, energy, instrumentalness, liveness, loudness, speechiness, tempo, time_signature]\n",
    "    return track"
   ]
  },
  {
   "cell_type": "code",
   "execution_count": 301,
   "id": "7f83f1d8",
   "metadata": {},
   "outputs": [],
   "source": [
    "# Getting audio features given track ids\n",
    "tracks = []\n",
    "for i in range(len(ids)):\n",
    "    try:  \n",
    "        track = getAudioFeatures(ids[i])\n",
    "        tracks.append(track)\n",
    "    except:\n",
    "        pass"
   ]
  },
  {
   "cell_type": "code",
   "execution_count": 302,
   "id": "502d5387",
   "metadata": {},
   "outputs": [
    {
     "data": {
      "text/plain": [
       "(1557, 11)"
      ]
     },
     "execution_count": 302,
     "metadata": {},
     "output_type": "execute_result"
    }
   ],
   "source": [
    "# Creating a dataset of spotify tracks\n",
    "\n",
    "df = pd.DataFrame(tracks, columns = ['track_id', 'popularity', 'acousticness', 'danceability', 'energy', 'instrumentalness', 'liveness', 'loudness', 'speechiness', 'tempo', 'time_signature'])\n",
    "df.shape\n"
   ]
  },
  {
   "cell_type": "code",
   "execution_count": 303,
   "id": "7f64c5b8",
   "metadata": {},
   "outputs": [
    {
     "data": {
      "text/plain": [
       "(1348, 11)"
      ]
     },
     "execution_count": 303,
     "metadata": {},
     "output_type": "execute_result"
    }
   ],
   "source": [
    "# Dropping duplicated songs\n",
    "df = df.drop_duplicates(subset=['track_id'])\n",
    "df.shape"
   ]
  },
  {
   "cell_type": "markdown",
   "id": "2a12b6fb",
   "metadata": {},
   "source": [
    "## Creating a dataset of my TOP songs with their audio features"
   ]
  },
  {
   "cell_type": "code",
   "execution_count": 304,
   "id": "39b46fce",
   "metadata": {},
   "outputs": [],
   "source": [
    "# Getting IDs of user's favorite tracks\n",
    "top_tracks = sp.current_user_top_tracks(limit = 100)\n",
    "\n",
    "fav_id = []\n",
    "for i, items in enumerate(top_tracks['items']):\n",
    "    fav_id.append(items['id'])"
   ]
  },
  {
   "cell_type": "code",
   "execution_count": 305,
   "id": "8e004a77",
   "metadata": {},
   "outputs": [],
   "source": [
    "# Getting track features for each song in favorite song dataframe\n",
    "fav_tracks = []\n",
    "for track in fav_id:\n",
    "    try:  \n",
    "        track = getAudioFeatures(track)\n",
    "        fav_tracks.append(track)\n",
    "    except:\n",
    "        pass"
   ]
  },
  {
   "cell_type": "code",
   "execution_count": 306,
   "id": "d92e615b",
   "metadata": {},
   "outputs": [
    {
     "data": {
      "text/plain": [
       "(50, 11)"
      ]
     },
     "execution_count": 306,
     "metadata": {},
     "output_type": "execute_result"
    }
   ],
   "source": [
    "# Creating a dataset df_fav\n",
    "\n",
    "\n",
    "df_fav = pd.DataFrame(fav_tracks, columns = ['track_id', 'popularity', 'acousticness', 'danceability', 'energy', 'instrumentalness', 'liveness', 'loudness', 'speechiness', 'tempo', 'time_signature'])\n",
    "df_fav.shape\n"
   ]
  },
  {
   "cell_type": "code",
   "execution_count": 307,
   "id": "8d096e8e",
   "metadata": {},
   "outputs": [
    {
     "data": {
      "text/plain": [
       "3FskQrDXcY24ur2fCvz35O    1\n",
       "3d7NcI1X25bL2icPmfRbBs    1\n",
       "1u2hPlWD5rlCzDa0X6zHaf    1\n",
       "3WmBWBfKHdKuWIsCX0rRFd    1\n",
       "1nf3SiU98SfKVJhkuAx9uj    1\n",
       "Name: track_id, dtype: int64"
      ]
     },
     "execution_count": 307,
     "metadata": {},
     "output_type": "execute_result"
    }
   ],
   "source": [
    "# Checking duplicate values\n",
    "df_fav['track_id'].value_counts().head()"
   ]
  },
  {
   "cell_type": "markdown",
   "id": "908bb992",
   "metadata": {},
   "source": [
    "## Creating a dataset of my LIKED songs with their audio features."
   ]
  },
  {
   "cell_type": "code",
   "execution_count": 308,
   "id": "3f7d56d9",
   "metadata": {},
   "outputs": [],
   "source": [
    "# Getting IDs of user's liked tracks\n",
    "liked_tracks = sp.current_user_saved_tracks(limit = 50)\n",
    "\n",
    "\n"
   ]
  },
  {
   "cell_type": "code",
   "execution_count": 309,
   "id": "ffaf8c17",
   "metadata": {},
   "outputs": [],
   "source": [
    "liked_id =[]\n",
    "\n",
    "for i, items in enumerate(liked_tracks['items']):\n",
    "    liked_id.append(items['track']['id'])"
   ]
  },
  {
   "cell_type": "code",
   "execution_count": 310,
   "id": "8bbe5107",
   "metadata": {},
   "outputs": [],
   "source": [
    "# Getting track features for each song in favorite song dataframe\n",
    "liked_tracks = []\n",
    "for track in liked_id:\n",
    "    try:  \n",
    "        track = getAudioFeatures(track)\n",
    "        liked_tracks.append(track)\n",
    "    except:\n",
    "        pass\n"
   ]
  },
  {
   "cell_type": "code",
   "execution_count": 311,
   "id": "7315e124",
   "metadata": {},
   "outputs": [
    {
     "data": {
      "text/plain": [
       "(50, 11)"
      ]
     },
     "execution_count": 311,
     "metadata": {},
     "output_type": "execute_result"
    }
   ],
   "source": [
    "# Creating a dataset df_fav\n",
    "df_liked = pd.DataFrame(liked_tracks, columns = ['track_id', 'popularity', 'acousticness', 'danceability', 'energy', 'instrumentalness', 'liveness', 'loudness', 'speechiness', 'tempo', 'time_signature'])\n",
    "df_liked.shape"
   ]
  },
  {
   "cell_type": "markdown",
   "id": "a5f21555",
   "metadata": {},
   "source": [
    "## Final datasets: Creating two datasets and creating a column \"favorite\" for each dataset"
   ]
  },
  {
   "cell_type": "markdown",
   "id": "98709fd0",
   "metadata": {},
   "source": [
    "### Dataset 1: Top songs"
   ]
  },
  {
   "cell_type": "code",
   "execution_count": 312,
   "id": "a7cb815e",
   "metadata": {},
   "outputs": [],
   "source": [
    "#Creating a favorite column \n",
    "df_fav['favorite'] = 1\n",
    "df['favorite'] = 0 \n",
    "\n",
    "# Combining two datasets\n",
    "data_top = pd.concat([df, df_fav])\n",
    "\n",
    "#Dropping duplicate values\n",
    "data_top = data_top.drop_duplicates(subset = 'track_id', keep = 'last')\n",
    "\n",
    "data_top['favorite'].value_counts()\n",
    "\n",
    "# Exporting the data\n",
    "data_top.to_csv('my_spotify_data_with_top_tracks.csv', index=False)"
   ]
  },
  {
   "cell_type": "markdown",
   "id": "aa2a54ba",
   "metadata": {},
   "source": [
    "### Dataset 2: Liked songs"
   ]
  },
  {
   "cell_type": "code",
   "execution_count": 313,
   "id": "87bf41c7",
   "metadata": {},
   "outputs": [],
   "source": [
    "#Creating a favorite column \n",
    "df_liked['favorite'] = 1\n",
    "#df['favorite'] = 0 \n",
    "\n",
    "# Combining two datasets\n",
    "data_liked = pd.concat([df, df_liked])\n",
    "\n",
    "#Dropping duplicate values\n",
    "data_liked = data_liked.drop_duplicates(subset = 'track_id', keep = 'last')\n",
    "\n",
    "data_liked['favorite'].value_counts()\n",
    "\n",
    "# Exporting the data\n",
    "data_liked.to_csv('my_spotify_data_with_liked_tracks.csv', index=False)"
   ]
  },
  {
   "cell_type": "code",
   "execution_count": null,
   "id": "a3948a81",
   "metadata": {},
   "outputs": [],
   "source": []
  }
 ],
 "metadata": {
  "kernelspec": {
   "display_name": "Python 3",
   "language": "python",
   "name": "python3"
  },
  "language_info": {
   "codemirror_mode": {
    "name": "ipython",
    "version": 3
   },
   "file_extension": ".py",
   "mimetype": "text/x-python",
   "name": "python",
   "nbconvert_exporter": "python",
   "pygments_lexer": "ipython3",
   "version": "3.8.5"
  }
 },
 "nbformat": 4,
 "nbformat_minor": 5
}
